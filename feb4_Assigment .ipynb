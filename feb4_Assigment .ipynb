{
 "cells": [
  {
   "cell_type": "markdown",
   "id": "cccb0188-58be-4479-a46e-4c611a830922",
   "metadata": {},
   "source": [
    "# Q1 \n",
    "Create a python program to sort the given list of tuples based on integers value using a lambda function."
   ]
  },
  {
   "cell_type": "code",
   "execution_count": 31,
   "id": "cc313923-fae9-496c-8f36-804966c7d85b",
   "metadata": {},
   "outputs": [
    {
     "data": {
      "text/plain": [
       "[('Virat Kohli', 24936), ('Ricky Ponting', 27483), ('Sachin Tendulkar', 34357)]"
      ]
     },
     "execution_count": 31,
     "metadata": {},
     "output_type": "execute_result"
    }
   ],
   "source": [
    "l = [('Sachin Tendulkar',34357),('Ricky Ponting',27483),('Virat Kohli',24936)]\n",
    "l1 = sorted(l, key = lambda x: x[1])\n",
    "l1"
   ]
  },
  {
   "cell_type": "markdown",
   "id": "3c288c9c-a0a4-48fa-9fc4-9d2b1032a903",
   "metadata": {},
   "source": [
    "# Q2\n",
    "Write a program to find the square of all the numbers in the given list of integers using lambda and map function."
   ]
  },
  {
   "cell_type": "code",
   "execution_count": 38,
   "id": "42145d05-e906-414e-8203-8f43eb7b2dec",
   "metadata": {},
   "outputs": [
    {
     "data": {
      "text/plain": [
       "[1, 4, 9, 16, 25, 36, 49, 64, 81, 100]"
      ]
     },
     "execution_count": 38,
     "metadata": {},
     "output_type": "execute_result"
    }
   ],
   "source": [
    "l2 = [1,2,3,4,5,6,7,8,9,10]\n",
    "list(map(lambda x: x**2,l2))"
   ]
  },
  {
   "cell_type": "markdown",
   "id": "a0f2ad0c-5a02-4f6d-acd7-ff0c351c6037",
   "metadata": {},
   "source": [
    "# Q3\n",
    "Write a python program to convert the given list of integers into a tuple of strings. Use map and\n",
    "lambda functions\n",
    "\n",
    "Given String: [1, 2, 3, 4, 5, 6, 7, 8, 9, 10]\n",
    "\n",
    "Expected output: ('1', '2', '3', '4', '5', '6', '7', '8', '9', '10')"
   ]
  },
  {
   "cell_type": "code",
   "execution_count": 41,
   "id": "d66555a4-3280-4bd6-8a9f-2fc985bc817f",
   "metadata": {},
   "outputs": [
    {
     "data": {
      "text/plain": [
       "('1', '2', '3', '4', '5', '6', '7', '8', '9', '10')"
      ]
     },
     "execution_count": 41,
     "metadata": {},
     "output_type": "execute_result"
    }
   ],
   "source": [
    "l3 = [1,2,3,4,5,6,7,8,9,10]\n",
    "tuple(map(lambda x: str(x),l3))"
   ]
  },
  {
   "cell_type": "markdown",
   "id": "6f2f3344-bc05-4ea9-b706-2364a27a1dcd",
   "metadata": {},
   "source": [
    "# Q4\n",
    "Write a python program using reduce function to compute the product of a list containing numbers\n",
    "from 1 to 25."
   ]
  },
  {
   "cell_type": "code",
   "execution_count": 4,
   "id": "4ff24ca7-f03f-41f6-82ef-5068a5329e1a",
   "metadata": {},
   "outputs": [
    {
     "data": {
      "text/plain": [
       "325"
      ]
     },
     "execution_count": 4,
     "metadata": {},
     "output_type": "execute_result"
    }
   ],
   "source": [
    "from functools import reduce\n",
    "l4 = list(range(1,26))\n",
    "reduce(lambda x,y:x+y,l4)"
   ]
  },
  {
   "cell_type": "markdown",
   "id": "49c1467f-28b4-4390-a050-820a6f0831ef",
   "metadata": {},
   "source": [
    "# Q5.\n",
    "Write a python program to filter the numbers in a given list that are divisible by 2 and 3 using the\n",
    "filter function.\n",
    "\n",
    "[2, 3, 6, 9, 27, 60, 90, 120, 55, 46]"
   ]
  },
  {
   "cell_type": "code",
   "execution_count": 7,
   "id": "39ae65d1-ce2c-4642-83f8-71b6b1fb9652",
   "metadata": {},
   "outputs": [
    {
     "data": {
      "text/plain": [
       "[2, 3, 6, 9, 27, 60, 90, 120, 46]"
      ]
     },
     "execution_count": 7,
     "metadata": {},
     "output_type": "execute_result"
    }
   ],
   "source": [
    "l5 = [2, 3, 6, 9, 27, 60, 90, 120, 55, 46]\n",
    "list(filter(lambda x: x%2==0 or x%3==0,l5))"
   ]
  },
  {
   "cell_type": "markdown",
   "id": "389ca365-7e63-490b-8f26-7586ad8ca4f6",
   "metadata": {},
   "source": [
    "# Q6. \n",
    "Write a python program to find palindromes in the given list of strings using lambda and filter\n",
    "function.\n",
    "\n",
    "['python', 'php', 'aba', 'radar', 'level']"
   ]
  },
  {
   "cell_type": "code",
   "execution_count": 10,
   "id": "20b055dd-a9c0-4573-ba7d-a62cb73d4a81",
   "metadata": {},
   "outputs": [
    {
     "data": {
      "text/plain": [
       "['php', 'aba', 'radar', 'level']"
      ]
     },
     "execution_count": 10,
     "metadata": {},
     "output_type": "execute_result"
    }
   ],
   "source": [
    "l6 = ['python', 'php', 'aba', 'radar', 'level']\n",
    "list(filter(lambda x: x==x[::-1],l6))"
   ]
  }
 ],
 "metadata": {
  "kernelspec": {
   "display_name": "Python 3 (ipykernel)",
   "language": "python",
   "name": "python3"
  },
  "language_info": {
   "codemirror_mode": {
    "name": "ipython",
    "version": 3
   },
   "file_extension": ".py",
   "mimetype": "text/x-python",
   "name": "python",
   "nbconvert_exporter": "python",
   "pygments_lexer": "ipython3",
   "version": "3.10.8"
  }
 },
 "nbformat": 4,
 "nbformat_minor": 5
}
