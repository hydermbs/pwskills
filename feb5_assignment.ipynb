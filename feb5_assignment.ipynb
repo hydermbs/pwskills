{
 "cells": [
  {
   "cell_type": "markdown",
   "id": "725f8009-9b2b-4e2d-a20b-a2a5196ecc9c",
   "metadata": {},
   "source": [
    "Q1. Explain Class and Object with respect to Object-Oriented Programming. Give a suitable example."
   ]
  },
  {
   "cell_type": "markdown",
   "id": "e65b618b-fd87-46ef-a4ec-3da942da2baa",
   "metadata": {},
   "source": [
    "# Ans\n",
    "A class is a blueprint or template for creating objects. It defines the properties and behaviors that the objects of that class will have. For example, you could create a class called \"Car\" which could have properties such as make, model, color, and year, and behaviors such as start, stop, and drive.\n",
    "\n",
    "An object is an instance of a class, meaning it is a specific representation of the class. For example, if you have a class called \"Car\", you could create an object of that class called \"myCar\" with properties such as make = \"Toyota\", model = \"Camry\", color = \"red\", and year = 2020.\n",
    "\n",
    "In other words, a class is like a blueprint or mold to make objects, and objects are the specific instances that are created from that mold."
   ]
  },
  {
   "cell_type": "code",
   "execution_count": 4,
   "id": "fc0b6543-ac4f-44c4-b0ea-0e42dfa47402",
   "metadata": {},
   "outputs": [
    {
     "name": "stdout",
     "output_type": "stream",
     "text": [
      "ToyotaCamryRedhasPetrolis started\n",
      "ToyotaCamryRedhasPetrolis stopped\n"
     ]
    }
   ],
   "source": [
    "class Car:\n",
    "    def __init__(self,name,model,color,engine):\n",
    "        self.name = name\n",
    "        self.model = model\n",
    "        self.color = color\n",
    "        self.engine = engine\n",
    "    def start (self):\n",
    "        print(f\"{self.name}{self.model}{self.color}has{self.engine}is started\")\n",
    "    def stop(self):\n",
    "        print(f\"{self.name}{self.model}{self.color}has{self.engine}is stopped\")\n",
    "car1 = Car(\"Toyota\",\"Camry\",\"Red\",\"Petrol\")\n",
    "car1.start()\n",
    "car1.stop()"
   ]
  },
  {
   "cell_type": "markdown",
   "id": "2acc8292-bcfc-401c-9041-9a51f3a48dc8",
   "metadata": {},
   "source": [
    "# Q2. \n",
    "Name the four pillars of OOPs."
   ]
  },
  {
   "cell_type": "markdown",
   "id": "204b3155-0c90-4f40-a0b0-176d80b925c1",
   "metadata": {},
   "source": [
    "# Ans\n",
    "The four pillars of Object-Oriented Programming (OOP) are:\n",
    "\n",
    "Abstraction: Hiding the internal details and exposing only the necessary information to the outside world. This allows objects to be treated as a single entity rather than a collection of data and behavior.\n",
    "\n",
    "Encapsulation: Wrapping data and behavior within an object, making it a self-contained unit. This protects the internal state of the object from being modified by external forces, ensuring the integrity and consistency of the data.\n",
    "\n",
    "Inheritance: The ability to create new classes based on existing classes, inheriting their properties and behavior. This allows new classes to be created with added or modified features, while avoiding redundant code.\n",
    "\n",
    "Polymorphism: The ability to treat objects of different classes in a similar manner, by defining a common interface. This allows objects to be treated as objects of the base class, even though they may be instances of derived classes. This is useful in writing generic algorithms that can work with objects of different types, without having to know the exact type of the object."
   ]
  },
  {
   "cell_type": "markdown",
   "id": "143ebb32-b89b-4152-82b7-219d520ea39e",
   "metadata": {},
   "source": [
    "# Q3:\n",
    "Explain why the __init__() function is used. Give a suitable example."
   ]
  },
  {
   "cell_type": "markdown",
   "id": "b17077c3-41ce-430c-b4bd-a99f10d5d6d7",
   "metadata": {},
   "source": [
    "# Ans\n",
    "The __init__ function is a special method in Python that is automatically called when an object is created from a class. It is also known as a constructor and is used to initialize the attributes of the object.\n",
    "\n",
    "The __init__ function is defined inside the class and takes at least one argument, self, which refers to the object being created. Additional arguments can be added as needed to initialize the object's attributes. The values of these arguments are then stored as attributes on the object, making them accessible throughout the lifetime of the object.\n",
    "\n",
    "Here is a simple example to illustrate the use of the __init__ function:"
   ]
  },
  {
   "cell_type": "code",
   "execution_count": 10,
   "id": "f0012f62-15c9-4530-b272-7eb52603db83",
   "metadata": {},
   "outputs": [
    {
     "name": "stdout",
     "output_type": "stream",
     "text": [
      "Toyota\n",
      "Camry\n",
      "red\n",
      "2020\n"
     ]
    }
   ],
   "source": [
    "class Car:\n",
    "    def __init__(self, make, model, color, year):\n",
    "        self.make = make\n",
    "        self.model = model\n",
    "        self.color = color\n",
    "        self.year = year\n",
    "\n",
    "myCar = Car(\"Toyota\", \"Camry\", \"red\", 2020)\n",
    "print(myCar.make)  # Output: Toyota\n",
    "print(myCar.model)  # Output: Camry\n",
    "print(myCar.color)  # Output: red\n",
    "print(myCar.year)  # Output: 2020"
   ]
  },
  {
   "cell_type": "markdown",
   "id": "ca921535-a566-4233-a8f0-6e0cff8d4a96",
   "metadata": {},
   "source": [
    "# Q4:\n",
    "Why self is used in OOPs?"
   ]
  },
  {
   "cell_type": "markdown",
   "id": "30955e9e-241c-4786-95b7-d38232b48cd6",
   "metadata": {},
   "source": [
    "In Object-Oriented Programming (OOP), the self keyword is used to refer to the instance of the class that is currently being executed. When you create a method within a class, the first parameter of the method is always self, which refers to the instance of the class that the method is being called on.\n",
    "\n",
    "But you can use anyother keyword as to point it to the class."
   ]
  },
  {
   "cell_type": "markdown",
   "id": "b86e9d21-43b9-4d20-9414-0a6098438f2b",
   "metadata": {},
   "source": [
    "# Q5:\n",
    "What is inheritance? Give an example for each type of inheritance."
   ]
  },
  {
   "cell_type": "markdown",
   "id": "e15ac3a1-36a9-4ca2-b673-7f286ff58945",
   "metadata": {},
   "source": [
    "# Ans\n",
    "Inheritance is a mechanism in Object-Oriented Programming (OOP) that allows you to create a new class based on an existing class. The new class, known as the derived class, inherits the attributes and behaviors of the existing class, known as the base class. The derived class can then add or override the inherited attributes and behaviors to create a specialized version of the base class.\n",
    "There are five types of inheritances:\n",
    "\n",
    "1. Single Inheritance\n",
    "2. Multiple Inheritance\n",
    "3. Multilevel Inheritance\n",
    "4. Hierarchical Inheritance\n",
    "5. Hybrid Inheritance\n",
    "\n",
    "## Single Inheritance\n",
    "This type of inheritance enables a subclass or derived class to inherit properties and characteristics of the parent class, this avoids duplication of code and improves code reusability."
   ]
  },
  {
   "cell_type": "code",
   "execution_count": 12,
   "id": "cb8677b3-10b6-436e-8e58-34fdbd43935e",
   "metadata": {},
   "outputs": [
    {
     "name": "stdout",
     "output_type": "stream",
     "text": [
      "Hey there, you are in the parent class\n",
      "Hey there, you are in the sub class\n",
      "Hey there, you are in the parent class\n",
      "10\n",
      "5\n"
     ]
    }
   ],
   "source": [
    "#parent class\n",
    "class Above:\n",
    "    i = 5\n",
    "    def fun1(self):\n",
    "        print(\"Hey there, you are in the parent class\")\n",
    "\n",
    "#subclass\n",
    "class Below(Above):\n",
    "    i=10\n",
    "    def fun2(self):\n",
    "        print(\"Hey there, you are in the sub class\")\n",
    "\n",
    "temp1=Below()\n",
    "temp2=Above()\n",
    "temp1.fun1()\n",
    "temp1.fun2()\n",
    "temp2.fun1()\n",
    "print(temp1.i)\n",
    "print(temp2.i)\n",
    "#temp2.fun2()"
   ]
  },
  {
   "cell_type": "markdown",
   "id": "4343eb68-9578-4b06-85f9-a7e18ad270bb",
   "metadata": {},
   "source": [
    "## Multiple Inheritance\n",
    "This inheritance enables a child class to inherit from more than one parent class. This type of inheritance is not supported by java classes, but python does support this kind of inheritance. It has a massive advantage if we have a requirement of gathering multiple characteristics from different classes."
   ]
  },
  {
   "cell_type": "code",
   "execution_count": 13,
   "id": "6a5c2d15-ec27-4f00-bd76-33ce7ab26930",
   "metadata": {},
   "outputs": [
    {
     "name": "stdout",
     "output_type": "stream",
     "text": [
      "Hey there, you are in the child class\n",
      "first number is :  10\n",
      "second number is :  5\n"
     ]
    }
   ],
   "source": [
    "#parent class 1\n",
    "class A:\n",
    "    demo1=0\n",
    "    def fun1(self):\n",
    "        print(self.demo1)\n",
    "\n",
    "#parent class 2\n",
    "class B:\n",
    "    demo2=0\n",
    "    def fun2(self):\n",
    "        print(self.demo2)\n",
    "\n",
    "#child class\n",
    "class C(A, B):\n",
    "    def fun3(self):\n",
    "        print(\"Hey there, you are in the child class\")\n",
    "\n",
    "# Main code\n",
    "c = C()\n",
    "c.demo1 = 10\n",
    "c.demo2 = 5\n",
    "c.fun3()\n",
    "print(\"first number is : \",c.demo1)\n",
    "print(\"second number is : \",c.demo2)"
   ]
  },
  {
   "cell_type": "markdown",
   "id": "1a7833c9-d647-4ac9-b9da-86ad4d66595c",
   "metadata": {},
   "source": [
    "## Multilevel Inheritance\n",
    "In multilevel inheritance, the transfer of the properties of characteristics is done to more than one class hierarchically. To get a better visualization we can consider it as an ancestor to grandchildren relation or a root to leaf in a tree with more than one level."
   ]
  },
  {
   "cell_type": "code",
   "execution_count": 15,
   "id": "d44ecfbf-efcb-4871-a54b-3c02002926a7",
   "metadata": {},
   "outputs": [
    {
     "name": "stdout",
     "output_type": "stream",
     "text": [
      "electric car runs on electricity\n",
      "a car has 4 wheels\n",
      "vehicles are used for transportation\n"
     ]
    }
   ],
   "source": [
    "#parent class 1\n",
    "class vehicle:\n",
    "    def functioning(self):\n",
    "        print(\"vehicles are used for transportation\")\n",
    "\n",
    "#child class 1\n",
    "class car(vehicle):\n",
    "    def wheels(self):\n",
    "        print(\"a car has 4 wheels\")\n",
    "       \n",
    "#child class 2  \n",
    "class electric_car(car):\n",
    "    def speciality(self):\n",
    "        print(\"electric car runs on electricity\")\n",
    "\n",
    "electric=electric_car()\n",
    "electric.speciality()\n",
    "electric.wheels()\n",
    "electric.functioning()"
   ]
  },
  {
   "cell_type": "markdown",
   "id": "a2b6d65e-6a41-4642-936d-e59924fa1bf8",
   "metadata": {},
   "source": [
    "## Hierarchical Inheritance\n",
    "This inheritance allows a class to host as a parent class for more than one child class or subclass. This provides a benefit of sharing the functioning of methods with multiple child classes, hence avoiding code duplication."
   ]
  },
  {
   "cell_type": "code",
   "execution_count": 16,
   "id": "0199cc49-5ccb-4d80-af70-91024b910170",
   "metadata": {},
   "outputs": [
    {
     "name": "stdout",
     "output_type": "stream",
     "text": [
      "Hey there, you are in the parent class\n",
      "Hey there, you are in the child class 3\n",
      "Hey there, you are in the parent class\n",
      "Hey there, you are in the child class 2\n",
      "Hey there, you are in the parent class\n",
      "Hey there, you are in the child class 1\n"
     ]
    }
   ],
   "source": [
    "#parent class\n",
    "class Parent:\n",
    "    def fun1(self):\n",
    "        print(\"Hey there, you are in the parent class\")\n",
    " #child class 1\n",
    "class child1(Parent):\n",
    "    def fun2(self):\n",
    "        print(\"Hey there, you are in the child class 1\")\n",
    "\n",
    "#child class 2 \n",
    "class child2(Parent):\n",
    "    def fun3(self):\n",
    "        print(\"Hey there, you are in the child class 2\")\n",
    " #child class 3\n",
    "class child3(Parent):\n",
    "    def fun4(self):\n",
    "        print(\"Hey there, you are in the child class 3\")\n",
    " # main program\n",
    "child_obj1 = child3()\n",
    "child_obj2 = child2()\n",
    "child_obj3 = child1()\n",
    "child_obj1.fun1()\n",
    "child_obj1.fun4()\n",
    "child_obj2.fun1()\n",
    "child_obj2.fun3()\n",
    "child_obj3.fun1()\n",
    "child_obj3.fun2()"
   ]
  },
  {
   "cell_type": "markdown",
   "id": "ee488cb0-48b1-46eb-a5b2-6a7d448e05b2",
   "metadata": {},
   "source": [
    "## Hybrid Inheritance\n",
    "An inheritance is said hybrid inheritance if more than one type of inheritance is implemented in the same code. This feature enables the user to utilize the feature of inheritance at its best. This satisfies the requirement of implementing a code that needs multiple inheritances in implementation."
   ]
  },
  {
   "cell_type": "code",
   "execution_count": 17,
   "id": "8e0ebe47-f70c-4a75-8590-e10277f5cb28",
   "metadata": {},
   "outputs": [
    {
     "ename": "IndentationError",
     "evalue": "expected an indented block after class definition on line 1 (873981355.py, line 2)",
     "output_type": "error",
     "traceback": [
      "\u001b[0;36m  Cell \u001b[0;32mIn[17], line 2\u001b[0;36m\u001b[0m\n\u001b[0;31m    def fun1(self):\u001b[0m\n\u001b[0m    ^\u001b[0m\n\u001b[0;31mIndentationError\u001b[0m\u001b[0;31m:\u001b[0m expected an indented block after class definition on line 1\n"
     ]
    }
   ],
   "source": [
    "class A:\n",
    "def fun1(self):\n",
    "print(\"Hey there, you are in class A\")class B(A):\n",
    "def fun2(self):\n",
    "print(\"Hey there, you are in class B\")class C(A):\n",
    "def fun3(self):\n",
    "print(\"Hey there, you are in class C\")class D(C,A): #line 13\n",
    "def fun4(self):\n",
    "print(\"Hey there, you are in the class D\")#main program\n",
    "ref = D()\n",
    "ref.fun4()\n",
    "ref.fun3()\n",
    "ref.fun1()"
   ]
  },
  {
   "cell_type": "code",
   "execution_count": null,
   "id": "5bf4f778-0de9-43d3-bcca-a5e3f07e0cd7",
   "metadata": {},
   "outputs": [],
   "source": []
  }
 ],
 "metadata": {
  "kernelspec": {
   "display_name": "Python 3 (ipykernel)",
   "language": "python",
   "name": "python3"
  },
  "language_info": {
   "codemirror_mode": {
    "name": "ipython",
    "version": 3
   },
   "file_extension": ".py",
   "mimetype": "text/x-python",
   "name": "python",
   "nbconvert_exporter": "python",
   "pygments_lexer": "ipython3",
   "version": "3.10.8"
  }
 },
 "nbformat": 4,
 "nbformat_minor": 5
}
