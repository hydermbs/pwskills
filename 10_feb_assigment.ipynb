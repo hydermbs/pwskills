{
  "nbformat": 4,
  "nbformat_minor": 0,
  "metadata": {
    "colab": {
      "provenance": [],
      "authorship_tag": "ABX9TyNWRiP2fdft9WNSuPc605jw",
      "include_colab_link": true
    },
    "kernelspec": {
      "name": "python3",
      "display_name": "Python 3"
    },
    "language_info": {
      "name": "python"
    }
  },
  "cells": [
    {
      "cell_type": "markdown",
      "metadata": {
        "id": "view-in-github",
        "colab_type": "text"
      },
      "source": [
        "<a href=\"https://colab.research.google.com/github/hydermbs/pwskills/blob/main/10_feb_assigment.ipynb\" target=\"_parent\"><img src=\"https://colab.research.google.com/assets/colab-badge.svg\" alt=\"Open In Colab\"/></a>"
      ]
    },
    {
      "cell_type": "markdown",
      "source": [
        "#**Q1.**\n",
        " Which function is used to open a file? What are the different modes of opening a file? Explain each mode\n",
        "of file opening."
      ],
      "metadata": {
        "id": "2XNAsYWM7RCm"
      }
    },
    {
      "cell_type": "markdown",
      "source": [
        "#**Ans**\n",
        "In Python, the open() function is used to open a file. The basic syntax for opening a file is:\n",
        "\n",
        "Where file_name is the name of the file and mode is an optional parameter that specifies the mode in which the file is opened.\n",
        "\n",
        "There are several modes of opening a file in Python:\n",
        "\n",
        "'r' (Read Only): This is the default mode. In this mode, the file is opened in read-only mode, and you can only read the file, not write to it.\n",
        "\n",
        "'w' (Write Only): In this mode, the file is opened in write mode, and you can write to the file, but you cannot read from it. If the file exists, its contents are truncated, otherwise, a new file with the same name is created.\n",
        "\n",
        "'a' (Append Only): In this mode, the file is opened in append mode, and you can write to the file, but you cannot read from it. The new data is appended to the end of the file, so it won't overwrite the existing data. If the file does not exist, a new file with the same name is created.\n",
        "\n",
        "'x' (Exclusive Creation): In this mode, the file is opened for exclusive creation. If the file exists, the open() function raises a FileExistsError exception. This mode is used to avoid the accidental creation of a file with the same name as an existing file.\n",
        "\n",
        "'b' (Binary Mode): In this mode, the file is opened in binary mode, and you can read or write binary data. You can combine 'b' with other modes to open the file in binary mode, for example 'wb' for write-only binary mode, and 'rb' for read-only binary mode.\n",
        "\n",
        "'t' (Text Mode): In this mode, the file is opened in text mode, and you can read or write text data. You can combine 't' with other modes to open the file in text mode, for example 'wt' for write-only text mode, and 'rt' for read-only text mode.\n",
        "\n",
        "Note: If you don't specify the mode when opening a file, Python opens it in read-only mode by default.\n"
      ],
      "metadata": {
        "id": "uiQoxykS77ST"
      }
    },
    {
      "cell_type": "markdown",
      "source": [
        "#**Q2**\n",
        "Why close() function is used? Why is it important to close a file?"
      ],
      "metadata": {
        "id": "Ll2L6gmp8FNc"
      }
    },
    {
      "cell_type": "markdown",
      "source": [
        "The close() function is used to close an open file in Python. Closing a file is important because it frees up the resources that were being used to keep the file open. When a file is open, the operating system reserves memory to hold the file contents and metadata. If the file is not closed properly, these resources will not be released, and the operating system may become unable to allocate memory for other tasks.\n",
        "\n",
        "Additionally, closing a file also ensures that any changes made to the file are saved and stored permanently. If a file is not closed, the changes made to it may be lost if the program terminates unexpectedly.\n",
        "\n",
        "It's a good practice to close the file explicitly using the close() function after you have finished working with it. This can be done by calling the close() method on the file object:\n",
        "\n",
        "Alternatively, you can use the with statement to automatically close the file after the block of code within the with statement has been executed. The with statement ensures that the file is closed automatically, even if an exception occurs within the block:\n",
        "\n",
        "In this way, you can avoid forgetting to close the file, and you can be sure that the file is closed properly, even if an exception occurs.\n",
        "\n",
        "\n",
        "\n",
        "\n"
      ],
      "metadata": {
        "id": "1Ksf5omM8LHj"
      }
    },
    {
      "cell_type": "markdown",
      "source": [
        "#**Q3**\n",
        "Write a python program to create a text file. Write ‘I want to become a Data Scientist’ in that file. Then\n",
        "close the file. Open this file and read the content of the file."
      ],
      "metadata": {
        "id": "X2p_POMo8lDk"
      }
    },
    {
      "cell_type": "code",
      "execution_count": 1,
      "metadata": {
        "colab": {
          "base_uri": "https://localhost:8080/"
        },
        "id": "3qWHQP6y7OWE",
        "outputId": "98751ffa-6472-460f-c2c9-524bf0dae12c"
      },
      "outputs": [
        {
          "output_type": "stream",
          "name": "stdout",
          "text": [
            "I want to become a Data Scientist\n"
          ]
        }
      ],
      "source": [
        "# Open the file in write mode\n",
        "with open(\"file.txt\", \"w\") as file_object:\n",
        "    # Write the text to the file\n",
        "    file_object.write(\"I want to become a Data Scientist\")\n",
        "\n",
        "# The file is automatically closed here\n",
        "\n",
        "# Open the file in read mode\n",
        "with open(\"file.txt\", \"r\") as file_object:\n",
        "    # Read the contents of the file\n",
        "    contents = file_object.read()\n",
        "    print(contents)\n"
      ]
    },
    {
      "cell_type": "markdown",
      "source": [
        "#**Q4.**\n",
        " Explain the following with python code: read(), readline() and readlines()."
      ],
      "metadata": {
        "id": "DiObGbS_9kEB"
      }
    },
    {
      "cell_type": "markdown",
      "source": [
        "#**Ans**\n",
        "In Python, the read(), readline(), and readlines() methods are used to read data from a file.\n",
        "\n",
        "1. **read():** This method reads the entire contents of the file as a string. \n",
        "2. **realine():** The method reads the line and return content as string.\n",
        "3. **readlines():** The method read all the line and return content as string."
      ],
      "metadata": {
        "id": "opzMGlxN-THZ"
      }
    },
    {
      "cell_type": "markdown",
      "source": [
        "#**Q5**\n",
        "Explain why with statement is used with open(). What is the advantage of using with statement and open() together?\n"
      ],
      "metadata": {
        "id": "mGEXTcMX-sva"
      }
    },
    {
      "cell_type": "markdown",
      "source": [
        "#**Ans**\n",
        "\n",
        "The with statement is used with open() in Python to handle file I/O operations in a more convenient and safe way. The with statement provides a convenient way to manage the lifecycle of a file object. When a file is opened within a with block, it is automatically closed when the block is exited, even if an exception is raised within the block. This ensures that the file is closed properly and that any changes made to the file are saved.\n",
        "\n",
        "\n",
        "The advantage of using the with statement with open() is that it eliminates the need to explicitly call the close() method to close the file. This makes the code cleaner and eliminates the risk of forgetting to close the file, which can lead to resource leaks and data loss. Additionally, the with statement automatically takes care of closing the file even if an exception is raised within the block, which can help to ensure that the file is closed properly in all cases.\n",
        "\n",
        "In short, using the with statement with open() provides a convenient and safe way to handle file I/O operations in Python, and helps to prevent resource leaks and data loss.\n",
        "\n",
        "\n",
        "\n",
        "\n"
      ],
      "metadata": {
        "id": "KJzuFxxC-z3e"
      }
    },
    {
      "cell_type": "markdown",
      "source": [
        "#**Q6**\n",
        "Explain the write() and writelines() functions. Give a suitable example."
      ],
      "metadata": {
        "id": "SUg1-oBz_Lqk"
      }
    },
    {
      "cell_type": "markdown",
      "source": [
        "#**Ans**\n",
        "In Python, the write() and writelines() functions are used to write data to a file.\n",
        "\n",
        "write(): This function writes a string to the file. The string is written as it is, without any changes. \n",
        "\n",
        "writelines(): This function writes a list of strings to the file. Each string in the list is written as a separate line in the file."
      ],
      "metadata": {
        "id": "6VRb3Ks__Qiw"
      }
    }
  ]
}