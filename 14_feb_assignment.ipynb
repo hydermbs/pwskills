{
  "nbformat": 4,
  "nbformat_minor": 0,
  "metadata": {
    "colab": {
      "provenance": [],
      "authorship_tag": "ABX9TyPgrGpzyH+ut2mDiTdmybly",
      "include_colab_link": true
    },
    "kernelspec": {
      "name": "python3",
      "display_name": "Python 3"
    },
    "language_info": {
      "name": "python"
    }
  },
  "cells": [
    {
      "cell_type": "markdown",
      "metadata": {
        "id": "view-in-github",
        "colab_type": "text"
      },
      "source": [
        "<a href=\"https://colab.research.google.com/github/hydermbs/pwskills/blob/main/14_feb_assignment.ipynb\" target=\"_parent\"><img src=\"https://colab.research.google.com/assets/colab-badge.svg\" alt=\"Open In Colab\"/></a>"
      ]
    },
    {
      "cell_type": "markdown",
      "source": [
        "#**Q1**:\n",
        "what is multithreading in python? hy is it used? Name the module used to handle threads in python?\n",
        "\n",
        "#**Ans**:\n",
        "Multithreading in Python is a technique for running multiple threads (smaller units of a program) concurrently within a single process. Each thread executes independently and can perform different tasks simultaneously, resulting in better performance and responsiveness for certain types of programs.\n",
        "\n",
        "Multithreading is commonly used in Python to improve the performance of I/O-bound applications, such as network servers, web applications, and data processing scripts. It allows multiple I/O-bound operations to run in parallel, which can reduce the total execution time and improve the overall performance.\n",
        "\n",
        "The threading module is used to handle threads in Python. It provides a simple way to create, manage, and synchronize threads. The threading module defines a Thread class that can be subclassed to create new threads, and provides various methods for controlling the execution of threads, such as start(), join(), and setDaemon(). The module also provides several synchronization primitives, such as locks, semaphores, and conditions, that can be used to coordinate access to shared resources between multiple threads."
      ],
      "metadata": {
        "id": "6QQhGq9bVOYK"
      }
    },
    {
      "cell_type": "markdown",
      "source": [
        "#**Q2**\n",
        "why threading module used? write the use of the following functions\n",
        "activeCount()\n",
        " currentThread()\n",
        " enumerate()\n",
        "\n",
        "#**Ans**\n",
        "The threading module in Python is used to create and manage threads in a program. It provides a high-level interface for working with threads and offers several synchronization primitives for coordinating access to shared resources between multiple threads.\n",
        "\n",
        "The following are the uses of the functions mentioned in the question:\n",
        "\n",
        "**activeCount():** The activeCount() function is used to get the number of threads that are currently running in the program. It returns an integer that represents the current number of active threads. This function is useful for monitoring the progress of a program that uses multiple threads.\n",
        "\n",
        "**currentThread():** The currentThread() function is used to get a reference to the currently executing thread. It returns an instance of the Thread class that represents the current thread. This function is useful for identifying the current thread and for performing thread-specific operations.\n",
        "\n",
        "**enumerate():** The enumerate() function is used to get a list of all currently active threads in the program. It returns a list of Thread objects that represent each active thread. This function is useful for monitoring the state of all threads in the program and for performing operations on all threads simultaneously, such as setting the daemon flag or joining all threads."
      ],
      "metadata": {
        "id": "BtDTfOkCWd7b"
      }
    },
    {
      "cell_type": "markdown",
      "source": [
        "#**Q3**:\n",
        "Explain the following functions\n",
        "run()\n",
        "start()\n",
        "join()\n",
        "isAlive()"
      ],
      "metadata": {
        "id": "1QUP2CSRZjxP"
      }
    },
    {
      "cell_type": "markdown",
      "source": [
        "\n",
        "\n",
        "\n",
        "**run():** The run() method is the entry point for a thread and represents the code that will be executed when the thread is started. It is an instance method of the Thread class and should be overridden in any subclass of Thread. The run() method contains the logic that the thread will execute when started.\n",
        "\n",
        "**start():** The start() method is used to start a thread. It creates a new thread and calls the run() method of the Thread class in the new thread. The start() method must be called on a Thread object and can only be called once. It will raise a RuntimeError if called more than once.\n",
        "\n",
        "**join():** The join() method is used to wait for a thread to complete its execution. It blocks the calling thread until the target thread finishes its execution or until a timeout occurs. The join() method takes an optional timeout argument that specifies the maximum amount of time the calling thread will wait for the target thread to complete. If the timeout argument is not provided, the calling thread will block indefinitely.\n",
        "\n",
        "**isAlive():** The isAlive() method is used to check if a thread is currently running. It returns a boolean value that indicates whether the thread is currently executing. If the thread has not been started or has completed its execution, isAlive() will return False. Otherwise, it will return True. The isAlive() method can be useful for monitoring the progress of a thread and determining when it has finished its execution."
      ],
      "metadata": {
        "id": "SSKAJht3Z4NI"
      }
    },
    {
      "cell_type": "markdown",
      "source": [
        "#**Q4**\n",
        "write a python program to create two threads. Thread one must print the list of squares and thread\n",
        "two must print the list of cubes"
      ],
      "metadata": {
        "id": "yLTSTSIpaoyE"
      }
    },
    {
      "cell_type": "code",
      "source": [
        "import threading\n",
        "\n",
        "def print_squares():\n",
        "    for i in range(1, 11):\n",
        "        print(f\"Square of {i}: {i**2}\")\n",
        "\n",
        "def print_cubes():\n",
        "    for i in range(1, 11):\n",
        "        print(f\"Cube of {i}: {i**3}\")\n",
        "\n",
        "if __name__ == \"__main__\":\n",
        "    # create two threads\n",
        "    t1 = threading.Thread(target=print_squares)\n",
        "    t2 = threading.Thread(target=print_cubes)\n",
        "\n",
        "    # start the threads\n",
        "    t1.start()\n",
        "    t2.start()\n",
        "\n",
        "    # wait for the threads to finish\n",
        "    t1.join()\n",
        "    t2.join()\n",
        "\n",
        "    print(\"Finished executing both threads\")\n"
      ],
      "metadata": {
        "colab": {
          "base_uri": "https://localhost:8080/"
        },
        "id": "PrhB51LYazJU",
        "outputId": "a680d1e1-358b-4c41-c218-b911f40de7a7"
      },
      "execution_count": 1,
      "outputs": [
        {
          "output_type": "stream",
          "name": "stdout",
          "text": [
            "Square of 1: 1\n",
            "Square of 2: 4\n",
            "Square of 3: 9\n",
            "Square of 4: 16\n",
            "Square of 5: 25Cube of 1: 1\n",
            "Cube of 2: 8\n",
            "Cube of 3: 27\n",
            "Cube of 4: 64\n",
            "Cube of 5: 125\n",
            "\n",
            "Square of 6: 36\n",
            "Square of 7: 49\n",
            "Square of 8: 64\n",
            "Square of 9: 81\n",
            "Square of 10: 100\n",
            "Cube of 6: 216\n",
            "Cube of 7: 343\n",
            "Cube of 8: 512\n",
            "Cube of 9: 729\n",
            "Cube of 10: 1000\n",
            "Finished executing both threads\n"
          ]
        }
      ]
    },
    {
      "cell_type": "markdown",
      "source": [
        "#**Q5**\n",
        "State advantages and disadvantages of multithreading.\n",
        "\n",
        "#**Ans**\n",
        "Multithreading is a technique used to improve the performance of a program by executing multiple threads simultaneously. Here are some advantages and disadvantages of using multithreading in a program:\n",
        "\n",
        "**Advantages:**\n",
        "\n",
        "Faster Execution: Multithreading can improve the performance of a program by allowing multiple threads to execute simultaneously. This can result in faster execution times and better responsiveness of the program.\n",
        "\n",
        "Better Resource Utilization: Multithreading can help in better utilization of resources like CPU, memory, and I/O devices. By allowing multiple threads to execute in parallel, the program can efficiently use the available resources.\n",
        "\n",
        "Improved User Experience: Multithreading can improve the user experience of a program by keeping the user interface responsive. Long-running tasks can be executed in a background thread, allowing the user to continue using the program without any noticeable delay.\n",
        "\n",
        "Easy to Implement: Multithreading is relatively easy to implement in Python using the threading module. The threading module provides a high-level interface for creating and managing threads.\n",
        "\n",
        "**Disadvantages:**\n",
        "\n",
        "Increased Complexity: Multithreaded programs can be more complex to design and debug. Synchronization between threads can become challenging, and race conditions can lead to unexpected behavior.\n",
        "\n",
        "Resource Contentions: Multithreaded programs can face resource contention issues like deadlocks and livelocks. These issues can arise when multiple threads try to access the same shared resource simultaneously.\n",
        "\n",
        "Increased Memory Consumption: Each thread requires a separate stack and other data structures, which can increase the memory consumption of a program.\n",
        "\n",
        "Difficulty in Debugging: Debugging multithreaded programs can be more challenging than single-threaded programs. It can be difficult to identify the cause of a problem when multiple threads are executing simultaneously.\n",
        "\n",
        "In summary, multithreading can provide significant performance benefits to a program, but it can also introduce complexity and potential issues that need to be carefully managed. It's essential to carefully design and test multithreaded programs to ensure they work as expected."
      ],
      "metadata": {
        "id": "gEehF647bINT"
      }
    },
    {
      "cell_type": "markdown",
      "source": [
        "#**Q6**:\n",
        "Explain deadlocks and race conditions.\n",
        "\n",
        "#**Ans**:\n",
        "Deadlocks and race conditions are common issues that can arise in multithreaded programs.\n",
        "\n",
        "A deadlock occurs when two or more threads are blocked, waiting for each other to release a resource that they need to continue execution. In a deadlock, none of the threads can make progress, and the program becomes unresponsive. Deadlocks can occur when two or more threads try to acquire the same set of resources in a different order. For example, Thread A acquires Resource 1 and waits for Resource 2, while Thread B acquires Resource 2 and waits for Resource 1. In this scenario, both threads are blocked and waiting for the other to release the resource they need, leading to a deadlock.\n",
        "\n",
        "A race condition occurs when the behavior of a program depends on the relative timing of two or more threads. In a race condition, the outcome of the program can be unpredictable, as it depends on which thread finishes first. For example, consider two threads that increment a counter variable. If both threads read the counter value at the same time, increment it, and write the value back, then the value of the counter may not be what was expected. This is because the two threads are racing to access the counter variable, and the order in which they access it determines the final value.\n",
        "\n",
        "To prevent deadlocks and race conditions, it is essential to carefully design and test multithreaded programs. Techniques like synchronization, locks, and semaphores can be used to coordinate access to shared resources and prevent race conditions. Similarly, deadlock avoidance and deadlock recovery techniques can be used to prevent or recover from deadlocks."
      ],
      "metadata": {
        "id": "IH84zbyDb5AT"
      }
    }
  ]
}