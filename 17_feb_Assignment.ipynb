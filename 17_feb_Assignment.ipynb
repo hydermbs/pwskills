{
  "nbformat": 4,
  "nbformat_minor": 0,
  "metadata": {
    "colab": {
      "provenance": [],
      "authorship_tag": "ABX9TyPnPZj45EP1nLrRaMuGk/iC",
      "include_colab_link": true
    },
    "kernelspec": {
      "name": "python3",
      "display_name": "Python 3"
    },
    "language_info": {
      "name": "python"
    }
  },
  "cells": [
    {
      "cell_type": "markdown",
      "metadata": {
        "id": "view-in-github",
        "colab_type": "text"
      },
      "source": [
        "<a href=\"https://colab.research.google.com/github/hydermbs/pwskills/blob/main/17_feb_Assignment.ipynb\" target=\"_parent\"><img src=\"https://colab.research.google.com/assets/colab-badge.svg\" alt=\"Open In Colab\"/></a>"
      ]
    },
    {
      "cell_type": "markdown",
      "source": [
        "# **Q1**:\n",
        "What is a database? Differentiate between SQL and NoSQL databases.\n",
        "\n",
        "#**Ans**\n",
        "A database is a software system designed to store, manage, and retrieve large amounts of data. It serves as a central repository for organizing and managing data that can be accessed by multiple users or applications. Databases are used in many fields, including business, science, government, and education.\n",
        "\n",
        "There are two main types of databases: SQL and NoSQL. SQL (Structured Query Language) databases are relational databases, which store data in tables and use SQL as the language for managing the data. SQL databases have a predefined schema that defines the structure of the data, and data is stored in rows and columns. SQL databases are typically used for applications that require complex queries, transactions, and data consistency.\n",
        "\n",
        "On the other hand, NoSQL (Not Only SQL) databases are non-relational databases that store data in a flexible and unstructured format, such as key-value, document-oriented, or graph databases. NoSQL databases do not have a predefined schema, which allows for greater flexibility and scalability. They are typically used for applications that require high performance, scalability, and flexibility, such as web applications and big data analytics."
      ],
      "metadata": {
        "id": "_9PKqf0Gf_bu"
      }
    },
    {
      "cell_type": "markdown",
      "source": [
        "#**Q2**\n",
        "What is DDL? Explain why CREATE, DROP, ALTER, and TRUNCATE are used with an example.\n",
        "\n",
        "#**Ans**:\n",
        "DDL stands for Data Definition Language, which is a subset of SQL that is used to define and manipulate the structure of a database. DDL commands are used to create, modify, and delete database objects, such as tables, indexes, and views.\n",
        "\n",
        "Here are some commonly used DDL commands and their functions:\n",
        "\n",
        "**CREATE:** This command is used to create a new database object, such as a table, index, or view. For example, the following SQL statement creates a new table called \"Customers\":\n",
        "\n",
        "CREATE TABLE Customers (\n",
        "   CustomerID INT PRIMARY KEY,\n",
        "   FirstName VARCHAR(50),\n",
        "   LastName VARCHAR(50),\n",
        "   Email VARCHAR(100)\n",
        ");\n",
        "\n",
        "\n",
        "**DROP:** This command is used to delete an existing database object, such as a table, index, or view. For example, the following SQL statement drops the \"Customers\" table:\n",
        "\n",
        "DROP TABLE Cusotmers;\n",
        "\n",
        "**ALTER:** This command is used to modify the structure of an existing database object, such as a table, index, or view. For example, the following SQL statement adds a new column called \"Address\" to the \"Customers\" table:\n",
        "\n",
        "ALTER TABLE Customers ADD Address VARCHAR(200);\n",
        "\n",
        "**TRUNCATE:** This command is used to delete all the data from an existing table, while keeping the structure of the table intact. For example, the following SQL statement deletes all the data from the \"Customers\" table:\n",
        "\n",
        "TRUNCATE TABLE Customers;\n"
      ],
      "metadata": {
        "id": "GAn5IXjvgZit"
      }
    },
    {
      "cell_type": "markdown",
      "source": [
        "#**Q3**:\n",
        "What is DML? Explain INSERT, UPDATE, and DELETE with an example.\n",
        "\n",
        "#**Ans:**\n",
        "DML stands for Data Manipulation Language, which is a subset of SQL that is used to manipulate the data within a database. DML commands are used to insert, update, and delete data in database tables.\n",
        "\n",
        "Here are some commonly used DML commands and their functions:\n",
        "\n",
        "**INSERT:** This command is used to insert new data into a table. For example, the following SQL statement inserts a new record into the \"Customers\" table:\n",
        "\n",
        "INSERT INTO Customers (CustomerID, FirstName, LastName, Email)\n",
        "VALUES (1, 'John', 'Doe', 'johndoe@email.com');\n",
        "\n",
        "**UPDATE:** This command is used to modify existing data in a table. For example, the following SQL statement updates the email address for the customer with ID 1:\n",
        "\n",
        "UPDATE Customers SET Email = 'johndoe123@email.com'\n",
        "WHERE CustomerID = 1;\n",
        "\n",
        "**DELETE:** This command is used to delete existing data from a table. For example, the following SQL statement deletes the record for the customer with ID 1:\n",
        "\n",
        "DELETE FROM Customers\n",
        "WHERE CustomerID = 1;\n",
        "\n"
      ],
      "metadata": {
        "id": "WZ_7UyLJhSHz"
      }
    },
    {
      "cell_type": "markdown",
      "source": [
        "#**Q4:**\n",
        "What is DQL? Explain SELECT with an example.\n",
        "\n",
        "#**Ans:**\n",
        "DQL stands for Data Query Language, which is a subset of SQL that is used to retrieve data from a database. DQL commands are used to query and retrieve data from one or more database tables.\n",
        "\n",
        "Here is an example of a commonly used DQL command:\n",
        "\n",
        "SELECT: This command is used to retrieve data from one or more tables. For example, the following SQL statement retrieves all the data from the \"Customers\" table:\n",
        "\n",
        "SELECT * FROM Customers;\n",
        "\n",
        "We can also retrieve specific columns from the table by specifying the column names in the SELECT statement. For example, the following SQL statement retrieves only the customer ID and email address columns from the \"Customers\" table:\n",
        "SELECT CustomerID, Email FROM Customers;\n"
      ],
      "metadata": {
        "id": "CpkujVxHh8cm"
      }
    },
    {
      "cell_type": "markdown",
      "source": [
        "#**Q5**\n",
        "Explain Primary Key and Foreign Key.\n",
        "\n",
        "#**Ans**\n",
        "**Primary Key:** A primary key is a column or a combination of columns in a table that uniquely identifies each row in that table. A primary key must be unique and not null, which means that it cannot contain duplicate values or null values. In addition, a table can have only one primary key.\n",
        "\n",
        "**Foreign Key:** A foreign key is a column or a combination of columns in a table that refers to the primary key of another table. It establishes a relationship between the two tables and is used to enforce referential integrity, which means that the data in the tables remains consistent and accurate."
      ],
      "metadata": {
        "id": "K5aR1KeQihEL"
      }
    },
    {
      "cell_type": "markdown",
      "source": [
        "#**Q6:**\n",
        "Write a python code to connect MySQL to python. Explain the cursor() and execute() method."
      ],
      "metadata": {
        "id": "AectiCD7jJU8"
      }
    },
    {
      "cell_type": "code",
      "execution_count": null,
      "metadata": {
        "id": "RWzC8eT9f7fu"
      },
      "outputs": [],
      "source": [
        "import mysql.connector\n",
        "\n",
        "# Establish connection to MySQL database\n",
        "mydb = mysql.connector.connect(\n",
        "  host=\"localhost\",\n",
        "  user=\"yourusername\",\n",
        "  password=\"yourpassword\",\n",
        "  database=\"mydatabase\"\n",
        ")\n",
        "\n",
        "# Create a cursor object to interact with the database\n",
        "mycursor = mydb.cursor()\n",
        "\n",
        "# Execute a query\n",
        "mycursor.execute(\"SELECT * FROM customers\")\n",
        "\n",
        "# Fetch the result\n",
        "result = mycursor.fetchall()\n",
        "\n",
        "# Print the result\n",
        "for row in result:\n",
        "  print(row)\n"
      ]
    },
    {
      "cell_type": "markdown",
      "source": [
        "The cursor() and execute() methods are important in working with MySQL databases. The cursor() method creates a cursor object that we can use to execute queries and fetch results. The execute() method is used to execute SQL queries. You can pass an SQL statement as an argument to this method to execute the query. The method returns a result object, which you can use to fetch the results of the query."
      ],
      "metadata": {
        "id": "0dfR0PPzjbbT"
      }
    },
    {
      "cell_type": "markdown",
      "source": [
        "#**Q7**\n",
        "Give the order of execution of SQL clauses in an SQL query.\n",
        "\n",
        "#**Ans**:\n",
        "\n",
        "**FROM clause:** The FROM clause is the first clause that is executed in an SQL query. It specifies the table or tables from which to retrieve the data.\n",
        "\n",
        "**WHERE clause:** The WHERE clause is executed after the FROM clause. It is used to filter the data based on a specified condition.\n",
        "\n",
        "**GROUP BY clause:** The GROUP BY clause is executed after the WHERE clause. It is used to group the data based on one or more columns.\n",
        "\n",
        "**HAVING clause:** The HAVING clause is executed after the GROUP BY clause. It is used to filter the groups based on a specified condition.\n",
        "\n",
        "**SELECT clause:** The SELECT clause is executed after the HAVING clause. It is used to select the columns to be displayed in the query results.\n",
        "\n",
        "**DISTINCT clause:** The DISTINCT clause is executed after the SELECT clause. It removes duplicate rows from the query results.\n",
        "\n",
        "**ORDER BY clause:** The ORDER BY clause is executed after the DISTINCT clause. It is used to sort the query results based on one or more columns.\n",
        "\n",
        "**LIMIT clause:** The LIMIT clause is executed last. It is used to limit the number of rows returned by the query."
      ],
      "metadata": {
        "id": "SsWcggWxjhX9"
      }
    }
  ]
}