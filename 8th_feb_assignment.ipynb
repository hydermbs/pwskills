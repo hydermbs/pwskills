{
  "nbformat": 4,
  "nbformat_minor": 0,
  "metadata": {
    "colab": {
      "provenance": []
    },
    "kernelspec": {
      "name": "python3",
      "display_name": "Python 3"
    },
    "language_info": {
      "name": "python"
    }
  },
  "cells": [
    {
      "cell_type": "markdown",
      "source": [
        "# **Q1**\n",
        "What is Abstraction in OOps? Explain with an example."
      ],
      "metadata": {
        "id": "4LhSkSchhFLN"
      }
    },
    {
      "cell_type": "markdown",
      "source": [
        "Abstraction is a fundamental concept in object-oriented programming (OOP) that refers to the ability to focus on essential features of an object while ignoring others. It involves presenting only necessary information to the user and hiding implementation details, making the code easier to understand and use.\n",
        "\n",
        "An example of abstraction in OOP is the use of a class to represent a real-world object. Consider a Car class. The user of the class does not need to know the details of how a car works; they only need to know what the car can do (such as start, stop, accelerate, etc.). The Car class provides a simplified interface for the user to interact with, while hiding the complex details of the car's inner workings.\n",
        "\n",
        "Here is an example of a Car class in Python:\n"
      ],
      "metadata": {
        "id": "6FJeG-_HhVCy"
      }
    },
    {
      "cell_type": "code",
      "source": [
        "class Car:\n",
        "    def __init__(self, make, model, year):\n",
        "        self.make = make\n",
        "        self.model = model\n",
        "        self.year = year\n",
        "        self._speed = 0\n",
        "        \n",
        "    def start(self):\n",
        "        print(\"Car started.\")\n",
        "        \n",
        "    def stop(self):\n",
        "        print(\"Car stopped.\")\n",
        "        \n",
        "    def accelerate(self, speed):\n",
        "        self._speed += speed\n",
        "        print(f\"Car accelerated to {self._speed} mph.\")\n"
      ],
      "metadata": {
        "id": "FhA1AnxGhtou"
      },
      "execution_count": 1,
      "outputs": []
    },
    {
      "cell_type": "markdown",
      "source": [
        "#**Q2.**\n",
        " Differentiate between Abstraction and Encapsulation. Explain with an example."
      ],
      "metadata": {
        "id": "V2_CThC1hxcQ"
      }
    },
    {
      "cell_type": "markdown",
      "source": [
        "Abstraction and encapsulation are two important concepts in object-oriented programming (OOP) that are often used interchangeably, but they are not the same thing.\n",
        "\n",
        "Abstraction refers to the act of presenting only necessary information to the user while hiding the implementation details. It allows the user to interact with objects at a high level of abstraction, making the code easier to understand and use.\n",
        "\n",
        "Encapsulation refers to the technique of wrapping data and functions into a single unit, or object, and hiding the implementation details from the user. This makes the code more modular and secure, as the user cannot directly access the data and functions, and can only interact with the object through its public interface."
      ],
      "metadata": {
        "id": "T8_qRUgniIQt"
      }
    },
    {
      "cell_type": "markdown",
      "source": [
        "#**Q3.**\n",
        "What is abc module in python? Why is it used?"
      ],
      "metadata": {
        "id": "wKcwD4t5iMvO"
      }
    },
    {
      "cell_type": "markdown",
      "source": [
        "#Ans\n",
        "The abc module in Python is the Abstract Base Classes module. It provides a way to define abstract base classes in Python, which are classes that cannot be instantiated but can be used as a blueprint for creating other classes.\n",
        "\n",
        "Abstract base classes are useful because they allow you to define a common interface for a set of related classes, without having to actually implement the behavior of the classes. This makes it possible to check if an object is an instance of a particular abstract base class, even if it is an instance of a subclass.\n",
        "\n",
        "The abc module provides a number of tools for defining abstract base classes and checking if an object is an instance of an abstract base class. For example, the ABC class in the abc module can be used as a base class for defining abstract base classes, and the abstractmethod decorator can be used to define abstract methods that must be implemented by any concrete subclasses."
      ],
      "metadata": {
        "id": "YM_3gk_aicKT"
      }
    },
    {
      "cell_type": "markdown",
      "source": [
        "#**Q4.**\n",
        " How can we achieve data abstraction?"
      ],
      "metadata": {
        "id": "7GVho6djihKj"
      }
    },
    {
      "cell_type": "markdown",
      "source": [
        "#Ans\n",
        "Data abstraction is the process of hiding the implementation details of an object and only presenting the necessary information to the user. In object-oriented programming, this is achieved through the use of abstract classes, interfaces, and access control mechanisms such as visibility modifiers (such as private, protected, and public).\n",
        "\n",
        "Here are a few ways to achieve data abstraction in programming:\n",
        "\n",
        "Abstract classes: Abstract classes are classes that cannot be instantiated, but can be used as a blueprint for creating other classes. Abstract classes can have abstract methods, which are methods that have no implementation and must be overridden by concrete subclasses. By defining an abstract class, you can specify the methods that must be implemented by concrete subclasses, while hiding the implementation details from the user.\n",
        "\n",
        "Interfaces: Interfaces are similar to abstract classes, but they contain only abstract methods. Interfaces are used to define a common interface for a set of related classes, and can be used to achieve data abstraction by specifying the methods that must be implemented by concrete classes.\n",
        "\n",
        "Access control mechanisms: Access control mechanisms are used to control the visibility of the members (such as data members and methods) of a class. For example, in many programming languages, members declared as private can only be accessed within the class, while members declared as public can be accessed from outside the class. This makes it possible to hide the implementation details of a class and only expose the necessary information to the user.\n",
        "\n"
      ],
      "metadata": {
        "id": "whFUe4XMikO4"
      }
    },
    {
      "cell_type": "markdown",
      "source": [
        "#**Q5.**\n",
        " Can we create an instance of an abstract class? Explain your answer."
      ],
      "metadata": {
        "id": "6I4TqWmsi5ID"
      }
    },
    {
      "cell_type": "markdown",
      "source": [
        "#**Ans**\n",
        "No, you cannot create an instance of an abstract class. An abstract class is a class that is meant to serve as a blueprint for creating other classes. It defines a common interface for a set of related classes, but cannot be instantiated on its own.\n",
        "\n",
        "The purpose of an abstract class is to define a common interface for a set of related classes, without providing a full implementation. It is meant to be subclassed and its abstract methods are meant to be overridden by concrete implementations in its subclasses. When you create an instance of a concrete subclass, you can access the abstract methods and data members of the abstract class through the instance.\n",
        "\n",
        "In short, abstract classes are not meant to be instantiated, they are meant to be subclassed and used as a blueprint for creating concrete instances of their subclasses."
      ],
      "metadata": {
        "id": "dmaiJlpXi8zN"
      }
    }
  ]
}