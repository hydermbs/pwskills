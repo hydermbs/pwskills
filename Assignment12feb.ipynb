{
  "nbformat": 4,
  "nbformat_minor": 0,
  "metadata": {
    "colab": {
      "provenance": [],
      "authorship_tag": "ABX9TyOo9Wjhxujz6vYf51j+o+uM",
      "include_colab_link": true
    },
    "kernelspec": {
      "name": "python3",
      "display_name": "Python 3"
    },
    "language_info": {
      "name": "python"
    }
  },
  "cells": [
    {
      "cell_type": "markdown",
      "metadata": {
        "id": "view-in-github",
        "colab_type": "text"
      },
      "source": [
        "<a href=\"https://colab.research.google.com/github/hydermbs/pwskills/blob/main/Assignment12feb.ipynb\" target=\"_parent\"><img src=\"https://colab.research.google.com/assets/colab-badge.svg\" alt=\"Open In Colab\"/></a>"
      ]
    },
    {
      "cell_type": "markdown",
      "source": [
        "#**Q1**\n",
        "What is an exception in python? Write the difference between exception and syntax error."
      ],
      "metadata": {
        "id": "dLpR-iTgwA6w"
      }
    },
    {
      "cell_type": "markdown",
      "source": [
        "#**Ans**\n",
        "In Python, an exception is an error that occurs during the execution of a program. When an exception occurs, the program execution is immediately stopped, and Python raises an error message that provides information about the error.\n",
        "\n",
        "Exceptions in Python can be caused by a wide range of things, including incorrect input data, file I/O errors, network errors, and more. In general, any unexpected behavior that occurs during the execution of a Python program can result in an exception.\n",
        "\n",
        "The key difference between an exception and a syntax error is that an exception occurs during the execution of a program, while a syntax error occurs during the compilation phase. When a syntax error is encountered, the program will not be able to execute at all, while with an exception, the program may still execute up to the point where the exception is encountered before stopping. Additionally, syntax errors are typically caused by simple mistakes in the code, while exceptions can be caused by a wide range of factors."
      ],
      "metadata": {
        "id": "xY4vBVIlw_nm"
      }
    },
    {
      "cell_type": "markdown",
      "source": [
        "#**Q2**\n",
        "What happen when an exception is not handled? Explain with an example.\n",
        "\n",
        "#**Ans**\n",
        "When an exception is not handled in Python, the program will terminate and the error message associated with the exception will be printed to the console. This can be problematic for a couple of reasons. First, it means that the program will not complete its intended task. Second, it means that the user will not receive any information about what caused the error, which can make it difficult to diagnose and fix the problem.\n",
        "\n",
        "Here's an example to illustrate what happens when an exception is not handled:"
      ],
      "metadata": {
        "id": "7Qfzwe6fxFsn"
      }
    },
    {
      "cell_type": "code",
      "source": [
        "numerator = 10\n",
        "denominator = 0\n",
        "result = numerator / denominator\n",
        "print(result)"
      ],
      "metadata": {
        "colab": {
          "base_uri": "https://localhost:8080/",
          "height": 217
        },
        "id": "JcMr7Z_Mx7-z",
        "outputId": "55dd1067-50f3-488c-bfce-1770f2b2df7a"
      },
      "execution_count": 4,
      "outputs": [
        {
          "output_type": "error",
          "ename": "ZeroDivisionError",
          "evalue": "ignored",
          "traceback": [
            "\u001b[0;31m---------------------------------------------------------------------------\u001b[0m",
            "\u001b[0;31mZeroDivisionError\u001b[0m                         Traceback (most recent call last)",
            "\u001b[0;32m<ipython-input-4-0de7ac085560>\u001b[0m in \u001b[0;36m<module>\u001b[0;34m\u001b[0m\n\u001b[1;32m      1\u001b[0m \u001b[0mnumerator\u001b[0m \u001b[0;34m=\u001b[0m \u001b[0;36m10\u001b[0m\u001b[0;34m\u001b[0m\u001b[0;34m\u001b[0m\u001b[0m\n\u001b[1;32m      2\u001b[0m \u001b[0mdenominator\u001b[0m \u001b[0;34m=\u001b[0m \u001b[0;36m0\u001b[0m\u001b[0;34m\u001b[0m\u001b[0;34m\u001b[0m\u001b[0m\n\u001b[0;32m----> 3\u001b[0;31m \u001b[0mresult\u001b[0m \u001b[0;34m=\u001b[0m \u001b[0mnumerator\u001b[0m \u001b[0;34m/\u001b[0m \u001b[0mdenominator\u001b[0m\u001b[0;34m\u001b[0m\u001b[0;34m\u001b[0m\u001b[0m\n\u001b[0m\u001b[1;32m      4\u001b[0m \u001b[0mprint\u001b[0m\u001b[0;34m(\u001b[0m\u001b[0mresult\u001b[0m\u001b[0;34m)\u001b[0m\u001b[0;34m\u001b[0m\u001b[0;34m\u001b[0m\u001b[0m\n",
            "\u001b[0;31mZeroDivisionError\u001b[0m: division by zero"
          ]
        }
      ]
    },
    {
      "cell_type": "markdown",
      "source": [
        "As you can see, the error message tells us that there was a ZeroDivisionError and that it occurred on line 3 of our program, where the division took place. However, since we didn't handle the exception, the program terminated and we didn't get any further information about what went wrong or how to fix it.\n",
        "\n",
        "To avoid this, it's important to handle exceptions in your Python code, so that you can provide useful error messages to the user and gracefully handle any issues that may arise."
      ],
      "metadata": {
        "id": "yRY9UGwKyE84"
      }
    },
    {
      "cell_type": "markdown",
      "source": [
        "#**Q3**\n",
        "Which Python statements are used to catch and handle exceptions? Explain with an example.\n",
        "\n",
        "#**Ans**\n",
        "In Python, the try and except statements are used to catch and handle exceptions. The try statement allows you to specify a block of code that might raise an exception, while the except statement allows you to specify a block of code to be executed if the exception is raised.\n",
        "\n",
        "Here's an example to illustrate how to use try and except statements to handle an exception:"
      ],
      "metadata": {
        "id": "l90yRqteyGO_"
      }
    },
    {
      "cell_type": "code",
      "source": [
        "numerator = 10\n",
        "denominator = 0\n",
        "\n",
        "try:\n",
        "    result = numerator / denominator\n",
        "    print(result)\n",
        "except ZeroDivisionError:\n",
        "    print(\"Error: You can't divide by zero.\")\n"
      ],
      "metadata": {
        "colab": {
          "base_uri": "https://localhost:8080/"
        },
        "id": "y2lbZrT-ywAt",
        "outputId": "0d6c15a3-619f-4ffc-a985-37e5f96988b3"
      },
      "execution_count": 5,
      "outputs": [
        {
          "output_type": "stream",
          "name": "stdout",
          "text": [
            "Error: You can't divide by zero.\n"
          ]
        }
      ]
    },
    {
      "cell_type": "markdown",
      "source": [
        "By handling the exception in this way, we're able to provide the user with a useful error message, and the program can continue executing rather than terminating abruptly. This can be especially important in cases where a program is running for an extended period of time, or where the user is depending on the program to complete a specific task."
      ],
      "metadata": {
        "id": "2eUEghxby5NW"
      }
    },
    {
      "cell_type": "markdown",
      "source": [
        "#**Q4**\n",
        "Explain with an example:\n",
        "1. Try and Else\n",
        "2. Finally\n",
        "3. raise\n",
        "\n",
        "#**Ans**\n",
        "\n",
        "###**Try and else statement:**\n",
        "The try and else statement is used to catch exceptions in Python, but also execute some code regardless of whether or not an exception is caught. The code in the else block will only be executed if no exceptions are raised in the try block."
      ],
      "metadata": {
        "id": "dFaMIM64y632"
      }
    },
    {
      "cell_type": "code",
      "source": [
        "try:\n",
        "    x = 1/0\n",
        "except ZeroDivisionError:\n",
        "    print(\"Error: Division by zero\")\n",
        "else:\n",
        "    print(\"No exceptions raised\")\n"
      ],
      "metadata": {
        "colab": {
          "base_uri": "https://localhost:8080/"
        },
        "id": "xbk57TfPx-Hy",
        "outputId": "19f78fc5-3475-4030-b4ee-599907407705"
      },
      "execution_count": 6,
      "outputs": [
        {
          "output_type": "stream",
          "name": "stdout",
          "text": [
            "Error: Division by zero\n"
          ]
        }
      ]
    },
    {
      "cell_type": "markdown",
      "source": [
        "###**finally statement:**\n",
        "The finally statement is used to specify a block of code that should always be executed, whether or not an exception is raised in the try block. This is useful for cleanup code, such as closing files or database connections, that should be executed regardless of whether or not an exception is raised."
      ],
      "metadata": {
        "id": "N73LN0E0zjm7"
      }
    },
    {
      "cell_type": "code",
      "source": [
        "try:\n",
        "    f = open(\"example.txt\", \"r\")\n",
        "    content = f.read()\n",
        "except FileNotFoundError:\n",
        "    print(\"Error: File not found\")\n",
        "finally:\n",
        "    f.close()"
      ],
      "metadata": {
        "colab": {
          "base_uri": "https://localhost:8080/",
          "height": 217
        },
        "id": "DsU-l0sBziZb",
        "outputId": "cad47f6f-8751-4c29-dc29-e68fe889e6c5"
      },
      "execution_count": 8,
      "outputs": [
        {
          "output_type": "stream",
          "name": "stdout",
          "text": [
            "Error: File not found\n"
          ]
        },
        {
          "output_type": "error",
          "ename": "NameError",
          "evalue": "ignored",
          "traceback": [
            "\u001b[0;31m---------------------------------------------------------------------------\u001b[0m",
            "\u001b[0;31mNameError\u001b[0m                                 Traceback (most recent call last)",
            "\u001b[0;32m<ipython-input-8-f84b933f7d85>\u001b[0m in \u001b[0;36m<module>\u001b[0;34m\u001b[0m\n\u001b[1;32m      5\u001b[0m     \u001b[0mprint\u001b[0m\u001b[0;34m(\u001b[0m\u001b[0;34m\"Error: File not found\"\u001b[0m\u001b[0;34m)\u001b[0m\u001b[0;34m\u001b[0m\u001b[0;34m\u001b[0m\u001b[0m\n\u001b[1;32m      6\u001b[0m \u001b[0;32mfinally\u001b[0m\u001b[0;34m:\u001b[0m\u001b[0;34m\u001b[0m\u001b[0;34m\u001b[0m\u001b[0m\n\u001b[0;32m----> 7\u001b[0;31m     \u001b[0mf\u001b[0m\u001b[0;34m.\u001b[0m\u001b[0mclose\u001b[0m\u001b[0;34m(\u001b[0m\u001b[0;34m)\u001b[0m\u001b[0;34m\u001b[0m\u001b[0;34m\u001b[0m\u001b[0m\n\u001b[0m",
            "\u001b[0;31mNameError\u001b[0m: name 'f' is not defined"
          ]
        }
      ]
    },
    {
      "cell_type": "markdown",
      "source": [
        "###**raise statement:**\n",
        "The raise statement is used to explicitly raise an exception in Python. This can be useful when you want to create your own custom exception types or when you want to raise an exception in response to a specific condition in your code."
      ],
      "metadata": {
        "id": "SB0EEQHS0EdN"
      }
    },
    {
      "cell_type": "code",
      "source": [
        "age = 17\n",
        "if age < 18:\n",
        "    raise ValueError(\"Error: Age must be at least 18\")\n"
      ],
      "metadata": {
        "colab": {
          "base_uri": "https://localhost:8080/",
          "height": 200
        },
        "id": "rNzz4o1czvcm",
        "outputId": "c7ac072e-c7ca-4b7f-afe2-75916bbcef2e"
      },
      "execution_count": 9,
      "outputs": [
        {
          "output_type": "error",
          "ename": "ValueError",
          "evalue": "ignored",
          "traceback": [
            "\u001b[0;31m---------------------------------------------------------------------------\u001b[0m",
            "\u001b[0;31mValueError\u001b[0m                                Traceback (most recent call last)",
            "\u001b[0;32m<ipython-input-9-c003ec49a8e6>\u001b[0m in \u001b[0;36m<module>\u001b[0;34m\u001b[0m\n\u001b[1;32m      1\u001b[0m \u001b[0mage\u001b[0m \u001b[0;34m=\u001b[0m \u001b[0;36m17\u001b[0m\u001b[0;34m\u001b[0m\u001b[0;34m\u001b[0m\u001b[0m\n\u001b[1;32m      2\u001b[0m \u001b[0;32mif\u001b[0m \u001b[0mage\u001b[0m \u001b[0;34m<\u001b[0m \u001b[0;36m18\u001b[0m\u001b[0;34m:\u001b[0m\u001b[0;34m\u001b[0m\u001b[0;34m\u001b[0m\u001b[0m\n\u001b[0;32m----> 3\u001b[0;31m     \u001b[0;32mraise\u001b[0m \u001b[0mValueError\u001b[0m\u001b[0;34m(\u001b[0m\u001b[0;34m\"Error: Age must be at least 18\"\u001b[0m\u001b[0;34m)\u001b[0m\u001b[0;34m\u001b[0m\u001b[0;34m\u001b[0m\u001b[0m\n\u001b[0m",
            "\u001b[0;31mValueError\u001b[0m: Error: Age must be at least 18"
          ]
        }
      ]
    },
    {
      "cell_type": "markdown",
      "source": [
        "#**Q5**\n",
        "\n",
        "What are the custom exceptions in python? Why do we need custom exceptions? Explain with example.\n",
        "\n",
        "#**Ans**\n",
        "In Python, you can create your own custom exceptions by defining a new class that inherits from the Exception class or one of its subclasses. Custom exceptions can be useful when you need to raise an exception in response to a specific condition in your code, and you want to provide more specific information about the error to the user.\n",
        "\n",
        "Here's an example of creating a custom exception in Python:"
      ],
      "metadata": {
        "id": "82bNXJC20PQl"
      }
    },
    {
      "cell_type": "code",
      "source": [
        "class InvalidNameException(Exception):\n",
        "    def __init__(self, message=\"Name is invalid\"):\n",
        "        self.message = message\n",
        "        super().__init__(self.message)"
      ],
      "metadata": {
        "id": "nrl825x_0wLH"
      },
      "execution_count": 10,
      "outputs": []
    },
    {
      "cell_type": "markdown",
      "source": [
        "We can now use this custom exception in our code like any other exception. For example, we might use it to validate user input:"
      ],
      "metadata": {
        "id": "mBk0-x-g00S_"
      }
    },
    {
      "cell_type": "code",
      "source": [
        "def validate_name(name):\n",
        "    if not name.isalpha():\n",
        "        raise InvalidNameException(\"Name contains non-alphabetic characters\")\n"
      ],
      "metadata": {
        "id": "U2UnUv_L1Atm"
      },
      "execution_count": 11,
      "outputs": []
    },
    {
      "cell_type": "markdown",
      "source": [
        "In this example, we define a function that takes a name as input and checks if it only contains alphabetic characters. If the name is invalid, we raise a InvalidNameException exception with a custom error message. By using a custom exception, we can provide more specific information about the error to the user, which can make it easier to diagnose and fix the problem."
      ],
      "metadata": {
        "id": "XFAwDOEG2xhQ"
      }
    },
    {
      "cell_type": "markdown",
      "source": [
        "#**Q6**\n",
        "Create a custom class and use this class as exception."
      ],
      "metadata": {
        "id": "XTFy_zAm26h3"
      }
    },
    {
      "cell_type": "code",
      "source": [
        "class Bank_balance(Exception):\n",
        "  def __init__(self,bank_balance):\n",
        "    self.bank_balance = bank_balance\n",
        "def verify_balance(balance):\n",
        "  if balance<100:\n",
        "    raise Bank_balance('Please add some balance in your account')\n",
        "  elif balance <=1000:\n",
        "    raise Bank_balance('Your balance is sufficient but not enough to do transaction')\n",
        "  else:\n",
        "    print('You can do transaction')\n"
      ],
      "metadata": {
        "id": "JAVFCLnK1CMz"
      },
      "execution_count": 13,
      "outputs": []
    },
    {
      "cell_type": "code",
      "source": [
        "try:\n",
        "  balance = int(input('Enter your balance here: '))\n",
        "  verify_balance(balance)\n",
        "except Bank_balance as e:\n",
        "  print(e)"
      ],
      "metadata": {
        "colab": {
          "base_uri": "https://localhost:8080/"
        },
        "id": "LqE1BM4I3x1i",
        "outputId": "bcdbb94a-4b55-42b8-d783-9462fa23c881"
      },
      "execution_count": 15,
      "outputs": [
        {
          "output_type": "stream",
          "name": "stdout",
          "text": [
            "Enter your balance here: 500\n",
            "Your balance is sufficient but not enough to do transaction\n"
          ]
        }
      ]
    }
  ]
}