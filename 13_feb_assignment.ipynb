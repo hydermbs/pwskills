{
  "nbformat": 4,
  "nbformat_minor": 0,
  "metadata": {
    "colab": {
      "provenance": [],
      "authorship_tag": "ABX9TyOgMaaBB9Yc53/BkYrRg0wV",
      "include_colab_link": true
    },
    "kernelspec": {
      "name": "python3",
      "display_name": "Python 3"
    },
    "language_info": {
      "name": "python"
    }
  },
  "cells": [
    {
      "cell_type": "markdown",
      "metadata": {
        "id": "view-in-github",
        "colab_type": "text"
      },
      "source": [
        "<a href=\"https://colab.research.google.com/github/hydermbs/pwskills/blob/main/13_feb_assignment.ipynb\" target=\"_parent\"><img src=\"https://colab.research.google.com/assets/colab-badge.svg\" alt=\"Open In Colab\"/></a>"
      ]
    },
    {
      "cell_type": "code",
      "execution_count": null,
      "metadata": {
        "id": "BHXDaFjo_xM9"
      },
      "outputs": [],
      "source": []
    },
    {
      "cell_type": "markdown",
      "source": [
        "#**Q1**\n",
        "Explain why we have to use the Exception class while creating a Custom Exception.\n",
        "\n",
        "#**Ans**\n",
        "In Python, custom exceptions are defined as classes that inherit from the built-in Exception class or one of its subclasses. The reason we use the Exception class as the base class for custom exceptions is because it provides a standard interface for raising and handling exceptions in Python.\n",
        "\n",
        "The Exception class provides a number of useful methods and attributes for working with exceptions, such as __str__ for creating a string representation of the exception, args for accessing the exception arguments, and with_traceback for attaching a traceback to the exception.\n",
        "\n",
        "By inheriting from the Exception class, custom exceptions can take advantage of these methods and attributes, and be treated in the same way as built-in exceptions in Python. For example, we can catch custom exceptions using a try/except block, just as we would catch built-in exceptions like ValueError or TypeError.\n",
        "\n",
        "In addition, using the Exception class as the base class for custom exceptions also ensures that the exception hierarchy is well-defined and follows best practices. This makes it easier for developers to understand and work with custom exceptions, and can help avoid confusion and errors in the code.\n",
        "\n",
        "In summary, we use the Exception class as the base class for custom exceptions in Python because it provides a standard interface for working with exceptions, and ensures that the exception hierarchy is well-defined and follows best practices."
      ],
      "metadata": {
        "id": "p9JNsvjW_zwn"
      }
    },
    {
      "cell_type": "markdown",
      "source": [
        "#**Q2**\n",
        "Write a python program to print Python Exception Hierarchy."
      ],
      "metadata": {
        "id": "2jJdZ58iAO7W"
      }
    },
    {
      "cell_type": "code",
      "source": [
        "class Node:\n",
        "    def __init__(self, name, parent=None):\n",
        "        self.name = name\n",
        "        self.parent = parent\n",
        "        self.children = []\n",
        "\n",
        "    def add_child(self, child):\n",
        "        self.children.append(child)\n",
        "\n",
        "    def print_tree(self, level=0):\n",
        "        print(\"  \" * level + \"- \" + self.name)\n",
        "        for child in self.children:\n",
        "            child.print_tree(level + 1)\n",
        "\n",
        "# Create the root node for the hierarchy\n",
        "root = Node(\"BaseException\")\n",
        "\n",
        "# Add the built-in exceptions to the hierarchy\n",
        "builtins = Node(\"builtins\", parent=root)\n",
        "for exc in dir(__builtins__):\n",
        "    if exc.endswith(\"Error\"):\n",
        "        Node(exc, parent=builtins)\n",
        "\n",
        "# Add the custom exceptions to the hierarchy\n",
        "custom = Node(\"Custom Exceptions\", parent=root)\n",
        "Node(\"MyException\", parent=custom)\n",
        "Node(\"YourException\", parent=custom)\n",
        "\n",
        "# Print the exception hierarchy\n",
        "root.print_tree()\n"
      ],
      "metadata": {
        "colab": {
          "base_uri": "https://localhost:8080/"
        },
        "id": "v6nb4jtIBRjv",
        "outputId": "270aeedc-dcdd-4024-cf77-b5bcccac160c"
      },
      "execution_count": 1,
      "outputs": [
        {
          "output_type": "stream",
          "name": "stdout",
          "text": [
            "- BaseException\n"
          ]
        }
      ]
    },
    {
      "cell_type": "markdown",
      "source": [
        "#**Q3**\n",
        "What errors are defined in the ArithmeticError class? Explain any two with an example.\n",
        "\n",
        "#**Ans**\n",
        "The ArithmeticError class is a built-in exception class in Python that represents errors that occur during arithmetic operations. It is a subclass of the Exception class, which is the base class for all built-in exceptions in Python.\n",
        "\n",
        "The ArithmeticError class has several subclasses, each of which represents a specific type of arithmetic error. Some of the more common subclasses of ArithmeticError include:\n",
        "\n",
        "ZeroDivisionError: This exception is raised when attempting to divide by zero. For example:"
      ],
      "metadata": {
        "id": "SkXJ3loeBTLG"
      }
    },
    {
      "cell_type": "code",
      "source": [
        "a = 10\n",
        "b = 0\n",
        "try:\n",
        "    c = a / b\n",
        "except ZeroDivisionError:\n",
        "    print(\"Error: division by zero\")\n"
      ],
      "metadata": {
        "id": "VxvZFcBnBsss"
      },
      "execution_count": null,
      "outputs": []
    },
    {
      "cell_type": "markdown",
      "source": [
        "**OverflowError:** This exception is raised when an arithmetic operation produces a result that is too large to be represented by the type being used. For example:"
      ],
      "metadata": {
        "id": "EDHRwOOSBudl"
      }
    },
    {
      "cell_type": "code",
      "source": [
        "import sys\n",
        "a = sys.maxsize\n",
        "try:\n",
        "    b = a * a\n",
        "except OverflowError:\n",
        "    print(\"Error: result too large\")\n"
      ],
      "metadata": {
        "id": "7Jj8DprKBzup"
      },
      "execution_count": 2,
      "outputs": []
    },
    {
      "cell_type": "markdown",
      "source": [
        "#**Q4**\n",
        "Why LookupError class is used? Explain with an example KeyError and IndexError.\n",
        "\n",
        "#**Ans**\n",
        "The LookupError class is a built-in exception class in Python that represents errors that occur when a key or index is not found. It is a subclass of the Exception class, which is the base class for all built-in exceptions in Python.\n",
        "\n",
        "The LookupError class has several subclasses, each of which represents a specific type of lookup error. Some of the more common subclasses of LookupError include:\n",
        "\n",
        "**KeyError:** This exception is raised when trying to access a non-existent key in a dictionary. For example:"
      ],
      "metadata": {
        "id": "fAZ1mpZ6B5sa"
      }
    },
    {
      "cell_type": "code",
      "source": [
        "d = {\"a\": 1, \"b\": 2}\n",
        "try:\n",
        "    value = d[\"c\"]\n",
        "except KeyError:\n",
        "    print(\"Error: key not found\")\n"
      ],
      "metadata": {
        "colab": {
          "base_uri": "https://localhost:8080/"
        },
        "id": "7fmNQUw5B2xz",
        "outputId": "5bd3f00b-d10d-4285-a612-11d5835f8689"
      },
      "execution_count": 3,
      "outputs": [
        {
          "output_type": "stream",
          "name": "stdout",
          "text": [
            "Error: key not found\n"
          ]
        }
      ]
    },
    {
      "cell_type": "markdown",
      "source": [
        "**IndexError:** This exception is raised when trying to access a non-existent index in a sequence (e.g. a list or tuple). For example:"
      ],
      "metadata": {
        "id": "ioKp6DdLCge-"
      }
    },
    {
      "cell_type": "code",
      "source": [
        "my_list = [1, 2, 3]\n",
        "try:\n",
        "    value = my_list[3]\n",
        "except IndexError:\n",
        "    print(\"Error: index out of range\")\n"
      ],
      "metadata": {
        "colab": {
          "base_uri": "https://localhost:8080/"
        },
        "id": "BYxltTtQCcr0",
        "outputId": "22d91151-1b0d-4975-b3e7-a8284799e33d"
      },
      "execution_count": 4,
      "outputs": [
        {
          "output_type": "stream",
          "name": "stdout",
          "text": [
            "Error: index out of range\n"
          ]
        }
      ]
    },
    {
      "cell_type": "markdown",
      "source": [
        "In this example, the IndexError exception is raised when trying to access the index 3 in the list my_list, which only has three elements. The code inside the try block catches the exception and prints an error message.\n",
        "\n",
        "These are just two examples of the types of errors that can be raised by the LookupError class. Other subclasses include AttributeError, NameError, and UnboundLocalError, each of which represents a different type of lookup error."
      ],
      "metadata": {
        "id": "oGswCN8sCp_j"
      }
    },
    {
      "cell_type": "markdown",
      "source": [
        "#**Q5**\n",
        "Explain ImportError. What is ModuleNotFoundError?\n",
        "\n",
        "#**Ans**\n",
        "**ImportError:** is a built-in exception class in Python that is raised when an imported module, package, or attribute cannot be found or loaded. This error can occur for various reasons, such as when the specified module name is incorrect or misspelled, the module is not installed, or there is a problem with the Python path or working directory.\n",
        "\n",
        "**ModuleNoFoundError:** a more specific exception class called ModuleNotFoundError was introduced as a subclass of ImportError. This exception is raised when a module is not found and is intended to provide a more clear and informative error message."
      ],
      "metadata": {
        "id": "8zXRMqWWCzjJ"
      }
    },
    {
      "cell_type": "markdown",
      "source": [
        "#**Q6**\n",
        "List down some best practices for exception handling in python.\n",
        "\n",
        "#**Ans**\n",
        "1. Use always a specific exception\n",
        "2. Always print a proper message\n",
        "3. Always try to log your error\n",
        "4. Always avoid to write multiple exception handling\n",
        "5. Document all the errors\n",
        "6. Cleanup all the resources"
      ],
      "metadata": {
        "id": "hikaWGrNDXG0"
      }
    }
  ]
}